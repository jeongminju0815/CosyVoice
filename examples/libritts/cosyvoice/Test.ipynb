{
 "cells": [
  {
   "cell_type": "code",
   "execution_count": null,
   "id": "70be2ab8-a939-4762-a81e-53e66bc02c2b",
   "metadata": {},
   "outputs": [],
   "source": [
    "for mode in zero_shot; do\n",
    "    python cosyvoice/bin/inference.py --mode $mode \\\n",
    "      --gpu 0 \\\n",
    "      --config conf/cosyvoice.yaml \\\n",
    "      --prompt_data data/test-clean/parquet/data.list \\\n",
    "      --prompt_utt2data data/test-clean/parquet/utt2data.list \\\n",
    "      --tts_text `pwd`/tts_text.json \\\n",
    "      --llm_model $pretrained_model_dir/llm.pt \\\n",
    "      --flow_model $pretrained_model_dir/flow.pt \\\n",
    "      --hifigan_model $pretrained_model_dir/hift.pt \\\n",
    "      --result_dir `pwd`/exp/cosyvoice/test-clean/$mode\n",
    "  done"
   ]
  }
 ],
 "metadata": {
  "kernelspec": {
   "display_name": "cosyvoice",
   "language": "python",
   "name": "cosyvoice"
  },
  "language_info": {
   "codemirror_mode": {
    "name": "ipython",
    "version": 3
   },
   "file_extension": ".py",
   "mimetype": "text/x-python",
   "name": "python",
   "nbconvert_exporter": "python",
   "pygments_lexer": "ipython3",
   "version": "3.10.16"
  }
 },
 "nbformat": 4,
 "nbformat_minor": 5
}
